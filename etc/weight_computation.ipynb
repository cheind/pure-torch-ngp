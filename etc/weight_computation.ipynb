{
 "cells": [
  {
   "cell_type": "code",
   "execution_count": 2,
   "metadata": {},
   "outputs": [],
   "source": [
    "import sympy as sym\n",
    "import numpy as np"
   ]
  },
  {
   "cell_type": "code",
   "execution_count": 9,
   "metadata": {},
   "outputs": [],
   "source": [
    "i, j, n = sym.symbols(\"i,j,n\", cls=sym.Idx)\n",
    "s = sym.symbols(\"s\", cls=sym.IndexedBase)\n",
    "t = sym.symbols(\"t\", cls=sym.IndexedBase)\n",
    "si = s[i]\n",
    "sj = s[j]\n",
    "di = t[i + 1] - t[i]\n",
    "dj = t[j + 1] - t[j]\n",
    "T = sym.exp(-sym.Sum(dj * sj, (j, 0, i - 1)))\n",
    "a = 1 - sym.exp(-si * di)\n",
    "w = sym.Sum(T*a, (i,0,n-1))\n",
    "wme = sym.Sum(sym.exp(-sym.Sum(dj*sj, (j,0,i-1))) - sym.exp(-sym.Sum(dj*sj, (j,0,i))), (i,0,n-1))\n"
   ]
  },
  {
   "cell_type": "code",
   "execution_count": 6,
   "metadata": {},
   "outputs": [
    {
     "data": {
      "text/latex": [
       "$\\displaystyle \\sum_{i=0}^{n - 1} \\left(1 - e^{- \\left({t}_{i + 1} - {t}_{i}\\right) {s}_{i}}\\right) e^{- \\sum_{j=0}^{i - 1} \\left({t}_{j + 1} - {t}_{j}\\right) {s}_{j}}$"
      ],
      "text/plain": [
       "Sum((1 - exp(-(t[i + 1] - t[i])*s[i]))*exp(-Sum((t[j + 1] - t[j])*s[j], (j, 0, i - 1))), (i, 0, n - 1))"
      ]
     },
     "execution_count": 6,
     "metadata": {},
     "output_type": "execute_result"
    }
   ],
   "source": [
    "w"
   ]
  },
  {
   "cell_type": "code",
   "execution_count": 10,
   "metadata": {},
   "outputs": [
    {
     "data": {
      "text/latex": [
       "$\\displaystyle \\sum_{i=0}^{n - 1} \\left(- e^{- \\sum_{j=0}^{i} \\left({t}_{j + 1} - {t}_{j}\\right) {s}_{j}} + e^{- \\sum_{j=0}^{i - 1} \\left({t}_{j + 1} - {t}_{j}\\right) {s}_{j}}\\right)$"
      ],
      "text/plain": [
       "Sum(-exp(-Sum((t[j + 1] - t[j])*s[j], (j, 0, i))) + exp(-Sum((t[j + 1] - t[j])*s[j], (j, 0, i - 1))), (i, 0, n - 1))"
      ]
     },
     "execution_count": 10,
     "metadata": {},
     "output_type": "execute_result"
    }
   ],
   "source": [
    "wme"
   ]
  },
  {
   "cell_type": "code",
   "execution_count": 12,
   "metadata": {},
   "outputs": [
    {
     "name": "stdout",
     "output_type": "stream",
     "text": [
      "0.4196937821623065\n",
      "0.4196937821623066\n"
     ]
    }
   ],
   "source": [
    "\n",
    "f_w = sym.lambdify((s, t, n), w, 'numpy')\n",
    "f_wme = sym.lambdify((s, t, n), wme, 'numpy')\n",
    "\n",
    "np.random.seed(123)\n",
    "ts = np.arange(0,1.1,0.1) # 11\n",
    "ss = np.random.rand(10) # 10\n",
    "\n",
    "print(f_w(ss, ts, 10))\n",
    "print(f_wme(ss, ts, 10))\n",
    "\n",
    "\n",
    "# print(ts)\n",
    "# print(ss)\n",
    "\n",
    "# subsdict = {**{s[k+1]:ss[k] for k in range(10)}, **{t[k+1]:ts[k] for k in range(11)}}\n",
    "# subsdict[N] = 10\n",
    "\n",
    "# print(subsdict)\n",
    "\n",
    "# w.doit().evalf(subs=subsdict)"
   ]
  }
 ],
 "metadata": {
  "kernelspec": {
   "display_name": "Python 3.9.12 ('.venv': venv)",
   "language": "python",
   "name": "python3"
  },
  "language_info": {
   "codemirror_mode": {
    "name": "ipython",
    "version": 3
   },
   "file_extension": ".py",
   "mimetype": "text/x-python",
   "name": "python",
   "nbconvert_exporter": "python",
   "pygments_lexer": "ipython3",
   "version": "3.9.12"
  },
  "orig_nbformat": 4,
  "vscode": {
   "interpreter": {
    "hash": "d52660baf9f9413d0d81578edac59d65e31968f96eed81e15e21f0e08927539a"
   }
  }
 },
 "nbformat": 4,
 "nbformat_minor": 2
}
